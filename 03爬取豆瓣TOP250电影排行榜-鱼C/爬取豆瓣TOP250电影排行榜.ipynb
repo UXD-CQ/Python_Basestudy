{
 "cells": [
  {
   "cell_type": "markdown",
   "metadata": {},
   "source": [
    "# 爬取豆瓣TOP250电影排行榜\n",
    "## 模块档案\n",
    "- Requests 模块\n",
    "- BeautifulSoup 模块"
   ]
  },
  {
   "cell_type": "markdown",
   "metadata": {},
   "source": [
    "`Requests` 模块是一个Python中非常流行的HTTP库，用于向网络服务器发送各种类型的请求并获取响应。它提供了简单而直观的API，使得发送HTTP请求变得非常容易。\n",
    "\n",
    "要使用 `Requests` 模块，首先需要安装它。可以通过以下命令使用 pip 安装："
   ]
  },
  {
   "cell_type": "code",
   "execution_count": null,
   "metadata": {},
   "outputs": [],
   "source": [
    "pip install requests"
   ]
  },
  {
   "cell_type": "markdown",
   "metadata": {},
   "source": [
    "安装完成后，你就可以在你的 Python 脚本或交互式环境中导入并开始使用它了。以下是一个简单的示例，演示如何使用 `Requests` 模块发送 GET 请求并打印响应内容："
   ]
  },
  {
   "cell_type": "code",
   "execution_count": null,
   "metadata": {},
   "outputs": [],
   "source": [
    "import requests\n",
    "\n",
    "# 发送 GET 请求\n",
    "response = requests.get('https://api.example.com/data')\n",
    "\n",
    "# 检查响应状态码\n",
    "if response.status_code == 200:\n",
    "    # 打印响应内容\n",
    "    print(response.text)\n",
    "else:\n",
    "    # 打印错误信息\n",
    "    print('Error:', response.status_code)"
   ]
  },
  {
   "cell_type": "markdown",
   "metadata": {},
   "source": [
    "这只是一个简单的示例，`Requests` 模块提供了许多其他功能，如发送 POST 请求、设置请求头、处理Cookie、文件上传等。你可以查看官方文档以获取更多详细信息和示例：https://docs.python-requests.org/en/latest/\n",
    "\n",
    "--------"
   ]
  },
  {
   "cell_type": "markdown",
   "metadata": {},
   "source": [
    "`Beautiful Soup` 是一个用于解析HTML和XML文档的Python库，它可以从页面中提取数据，以便更轻松地进行信息检索和提取。它允许你根据标签名称、属性、CSS选择器等方式来浏览和搜索文档树。\n",
    "\n",
    "首先，你需要安装 `Beautiful Soup`。可以通过以下命令使用 pip 安装："
   ]
  },
  {
   "cell_type": "code",
   "execution_count": null,
   "metadata": {},
   "outputs": [],
   "source": [
    "pip install beautifulsoup4"
   ]
  },
  {
   "cell_type": "markdown",
   "metadata": {},
   "source": [
    "安装完成后，你可以在你的 Python 脚本或交互式环境中导入并开始使用它了。以下是一个简单的示例，演示如何使用 `Beautiful Soup` 解析HTML页面并提取其中的链接："
   ]
  },
  {
   "cell_type": "code",
   "execution_count": null,
   "metadata": {},
   "outputs": [],
   "source": [
    "from bs4 import BeautifulSoup\n",
    "import requests\n",
    "\n",
    "# 发送 GET 请求获取页面内容\n",
    "response = requests.get('https://example.com')\n",
    "\n",
    "# 使用Beautiful Soup解析HTML内容\n",
    "soup = BeautifulSoup(response.content, 'html.parser')\n",
    "\n",
    "# 查找所有的链接标签（<a>）并提取链接\n",
    "links = soup.find_all('a')\n",
    "\n",
    "# 打印提取到的链接\n",
    "for link in links:\n",
    "    print(link.get('href'))"
   ]
  },
  {
   "cell_type": "markdown",
   "metadata": {},
   "source": [
    "这只是一个简单的示例，`Beautiful Soup` 提供了许多其他功能，例如寻找特定的标签、提取文本内容、处理HTML格式等。你可以查看官方文档以获取更多详细信息和示例：https://www.crummy.com/software/BeautifulSoup/bs4/doc/"
   ]
  },
  {
   "cell_type": "markdown",
   "metadata": {},
   "source": [
    "# 代码实现 如下"
   ]
  },
  {
   "cell_type": "code",
   "execution_count": null,
   "metadata": {},
   "outputs": [],
   "source": [
    "import requests\n",
    "from bs4 import BeautifulSoup\n",
    "\n",
    "def get_movie_info(url):\n",
    "    headers = {\n",
    "        'User-Agent': 'Mozilla/5.0 (Windows NT 10.0; Win64; x64) AppleWebKit/537.36 (KHTML, like Gecko) Chrome/58.0.3029.110 Safari/537.3'}\n",
    "    response = requests.get(url, headers=headers)\n",
    "    soup = BeautifulSoup(response.text, 'lxml')\n",
    "    movie_list = soup.find('ol', class_='grid_view').find_all('li')\n",
    "\n",
    "    for movie in movie_list:\n",
    "        name = movie.find('span', class_='title').text\n",
    "        rating = movie.find('span', class_='rating_num').text\n",
    "        comment_num = movie.find('div', class_='star').find_all('span')[-1].text[:-3]\n",
    "        info = movie.find('div', class_='bd').p.text.strip()\n",
    "\n",
    "        print(f'电影名称：{name}')\n",
    "        print(f'评分：{rating}')\n",
    "        print(f'评论数：{comment_num}')\n",
    "        print(f'电影信息：{info}')\n",
    "        print('-' * 50)\n",
    "\n",
    "if __name__ == '__main__':\n",
    "    base_url = 'https://movie.douban.com/top250?start={}&filter='\n",
    "    total_pages = 10\n",
    "\n",
    "    for page in range(total_pages):\n",
    "        url = base_url.format(page * 25)\n",
    "        get_movie_info(url)"
   ]
  }
 ],
 "metadata": {
  "kernelspec": {
   "display_name": "Python 3",
   "language": "python",
   "name": "python3"
  },
  "language_info": {
   "codemirror_mode": {
    "name": "ipython",
    "version": 3
   },
   "file_extension": ".py",
   "mimetype": "text/x-python",
   "name": "python",
   "nbconvert_exporter": "python",
   "pygments_lexer": "ipython3",
   "version": "3.12.1"
  }
 },
 "nbformat": 4,
 "nbformat_minor": 2
}
